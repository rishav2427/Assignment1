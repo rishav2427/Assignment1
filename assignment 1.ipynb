{
 "cells": [
  {
   "cell_type": "code",
   "execution_count": 13,
   "id": "d05cbc64",
   "metadata": {},
   "outputs": [
    {
     "name": "stdout",
     "output_type": "stream",
     "text": [
      "enter positive number : 3\n",
      "sum of natural number : 6\n"
     ]
    }
   ],
   "source": [
    "#SUM OF 'n' NATURAL NUMBER\n",
    "\n",
    "n=int(input('enter positive number : '))\n",
    "sum=0\n",
    "\n",
    "while(n>0):\n",
    "    sum+=n\n",
    "    n-=1    \n",
    "print('sum of natural number :',sum)    \n",
    "    "
   ]
  },
  {
   "cell_type": "code",
   "execution_count": 23,
   "id": "0d15793b",
   "metadata": {},
   "outputs": [
    {
     "name": "stdout",
     "output_type": "stream",
     "text": [
      "enter positive number : 3\n",
      "6\n"
     ]
    }
   ],
   "source": [
    "#FACTORIAL OF NUMBER\n",
    "\n",
    "n=int(input('enter positive number : '))\n",
    "fact=1\n",
    "if n<0:\n",
    "    print('wrong input')\n",
    "elif n==0:    \n",
    "    print('the factorial of',n,'is :1')\n",
    "else:    \n",
    "    for i in range(1,n+1):\n",
    "        fact=fact*i        \n",
    "    print(fact)    "
   ]
  },
  {
   "cell_type": "code",
   "execution_count": 27,
   "id": "4c932277",
   "metadata": {},
   "outputs": [
    {
     "name": "stdout",
     "output_type": "stream",
     "text": [
      "enter positive number : -2\n",
      "wrong input\n"
     ]
    }
   ],
   "source": [
    "n=int(input('enter positive number : '))\n",
    "fact=1\n",
    "if n<0:\n",
    "    print('wrong input')\n",
    "elif n==0:    \n",
    "    print('the factorial of',n,'is :1')\n",
    "else:    \n",
    "    while(n>0):\n",
    "        fact=fact*n\n",
    "        n-=1\n",
    "    print(fact)   "
   ]
  },
  {
   "cell_type": "code",
   "execution_count": 65,
   "id": "3a6cbf26",
   "metadata": {},
   "outputs": [
    {
     "name": "stdout",
     "output_type": "stream",
     "text": [
      "enter sales of this month \n",
      "enter total number sales of this month :2\n",
      "enter 2 sale\n",
      "enter sales of this month :8\n",
      "enter sales of this month :4\n",
      "6.0\n"
     ]
    }
   ],
   "source": [
    "#Input sales of the month and calculate average of sales\n",
    "\n",
    "print('enter sales of this month ')\n",
    "n=int(input('enter total number sales of this month :'))\n",
    "sum=0\n",
    "    \n",
    "if(n<0):\n",
    "    print('wrong input')\n",
    "elif n==0:\n",
    "    print('average sale is zero')\n",
    "else:\n",
    "    print('enter',n, 'sale')\n",
    "    for n in range(n):\n",
    "        num=int(input('enter sales of this month :'))\n",
    "        sum+=num\n",
    "        \n",
    "    \n",
    "    avg=sum/2\n",
    "print(avg)\n",
    "\n"
   ]
  },
  {
   "cell_type": "code",
   "execution_count": null,
   "id": "a6fc8759",
   "metadata": {},
   "outputs": [],
   "source": []
  }
 ],
 "metadata": {
  "kernelspec": {
   "display_name": "Python 3",
   "language": "python",
   "name": "python3"
  },
  "language_info": {
   "codemirror_mode": {
    "name": "ipython",
    "version": 3
   },
   "file_extension": ".py",
   "mimetype": "text/x-python",
   "name": "python",
   "nbconvert_exporter": "python",
   "pygments_lexer": "ipython3",
   "version": "3.8.8"
  }
 },
 "nbformat": 4,
 "nbformat_minor": 5
}
